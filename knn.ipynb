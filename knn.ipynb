{
 "cells": [
  {
   "cell_type": "code",
   "execution_count": 9,
   "metadata": {},
   "outputs": [],
   "source": [
    "import numpy as np\n",
    "import struct\n",
    "import os\n",
    "from array import array\n",
    "from os.path  import join\n",
    "\n",
    "# MNIST Data Loader Class\n",
    "class MnistDataloader(object):\n",
    "    def __init__(self, training_images_filepath,training_labels_filepath,\n",
    "                 test_images_filepath, test_labels_filepath):\n",
    "        self.training_images_filepath = training_images_filepath\n",
    "        self.training_labels_filepath = training_labels_filepath\n",
    "        self.test_images_filepath = test_images_filepath\n",
    "        self.test_labels_filepath = test_labels_filepath\n",
    "    \n",
    "    def read_images_labels(self, images_filepath, labels_filepath):        \n",
    "        labels = []\n",
    "        with open(labels_filepath, 'rb') as file:\n",
    "            magic, size = struct.unpack(\">II\", file.read(8))\n",
    "            if magic != 2049:\n",
    "                raise ValueError('Magic number mismatch, expected 2049, got {}'.format(magic))\n",
    "            labels = array(\"B\", file.read())        \n",
    "        \n",
    "        with open(images_filepath, 'rb') as file:\n",
    "            magic, size, rows, cols = struct.unpack(\">IIII\", file.read(16))\n",
    "            if magic != 2051:\n",
    "                raise ValueError('Magic number mismatch, expected 2051, got {}'.format(magic))\n",
    "            image_data = array(\"B\", file.read())        \n",
    "        images = []\n",
    "        for i in range(size):\n",
    "            images.append([0] * rows * cols)\n",
    "        for i in range(size):\n",
    "            img = np.array(image_data[i * rows * cols:(i + 1) * rows * cols])\n",
    "            img = img.reshape(28, 28)\n",
    "            images[i][:] = img            \n",
    "        \n",
    "        return images, labels\n",
    "            \n",
    "    def load_data(self):\n",
    "        x_train, y_train = self.read_images_labels(self.training_images_filepath, self.training_labels_filepath)\n",
    "        x_test, y_test = self.read_images_labels(self.test_images_filepath, self.test_labels_filepath)\n",
    "        return (x_train, y_train),(x_test, y_test)"
   ]
  },
  {
   "cell_type": "code",
   "execution_count": 17,
   "metadata": {},
   "outputs": [
    {
     "name": "stdout",
     "output_type": "stream",
     "text": [
      "Training Set Data  Shape:  (60000, 784)\n",
      "Training Set Label Shape:  (60000,)\n",
      "Test Set Data  Shape:  (10000, 784)\n",
      "Test Set Label Shape:  (10000,)\n"
     ]
    }
   ],
   "source": [
    "import random\n",
    "import matplotlib.pyplot as plt\n",
    "\n",
    "# Set file paths based on added MNIST Datasets\n",
    "input_path = join(os.getcwd(), 'datasets')\n",
    "training_images_filepath = join(input_path, 'train-images-idx3-ubyte.gz')\n",
    "training_labels_filepath = join(input_path, 'train-labels-idx1-ubyte.gz')\n",
    "test_images_filepath = join(input_path, 't10k-images-idx3-ubyte.gz')\n",
    "test_labels_filepath = join(input_path, 't10k-labels-idx1-ubyte.gz')\n",
    "\n",
    "#\n",
    "# Helper function to show a list of images with their relating titles\n",
    "#\n",
    "def show_images(images, title_texts):\n",
    "    cols = 5\n",
    "    rows = int(len(images)/cols) + 1\n",
    "    plt.figure(figsize=(30,20))\n",
    "    index = 1    \n",
    "    for x in zip(images, title_texts):        \n",
    "        image = x[0]        \n",
    "        title_text = x[1]\n",
    "        plt.subplot(rows, cols, index)        \n",
    "        plt.imshow(image, cmap=plt.cm.gray)\n",
    "        if (title_text != ''):\n",
    "            plt.title(title_text, fontsize = 15);        \n",
    "        index += 1\n",
    "\n",
    "#\n",
    "# Load MINST dataset\n",
    "#\n",
    "mnist_dataloader = MnistDataloader(training_images_filepath, training_labels_filepath, test_images_filepath, test_labels_filepath)\n",
    "(x_train, y_train), (x_test, y_test) = mnist_dataloader.load_data()\n",
    "\n",
    "#\n",
    "# Show some random training and test images \n",
    "#\n",
    "images_2_show = []\n",
    "titles_2_show = []\n",
    "for i in range(0, 10):\n",
    "    r = random.randint(1, 60000)\n",
    "    images_2_show.append(x_train[r])\n",
    "    titles_2_show.append('training image [' + str(r) + '] = ' + str(y_train[r]))    \n",
    "\n",
    "for i in range(0, 5):\n",
    "    r = random.randint(1, 10000)\n",
    "    images_2_show.append(x_test[r])        \n",
    "    titles_2_show.append('test image [' + str(r) + '] = ' + str(y_test[r]))    \n",
    "\n",
    "#show_images(images_2_show, titles_2_show)\n",
    "\n",
    "x_train = np.array(x_train).reshape((len(x_train), -1))\n",
    "y_train = np.array(y_train)\n",
    "x_test = np.array(x_test).reshape((len(x_test), -1))\n",
    "y_test = np.array(y_test)\n",
    "print(\"Training Set Data  Shape: \", x_train.shape)\n",
    "print(\"Training Set Label Shape: \", y_train.shape)\n",
    "print(\"Test Set Data  Shape: \", x_test.shape)\n",
    "print(\"Test Set Label Shape: \", y_test.shape)"
   ]
  },
  {
   "cell_type": "code",
   "execution_count": 24,
   "metadata": {},
   "outputs": [],
   "source": [
    "def run_knn(x_train, y_train, x_test, y_test, k):\n",
    "    from sklearn.neighbors import KNeighborsClassifier\n",
    "    from sklearn import metrics\n",
    "    \n",
    "    knn_model = KNeighborsClassifier(n_neighbors=k)\n",
    "    knn_model.fit(x_train, y_train)\n",
    "\n",
    "    y_test_pred = knn_model.predict(x_test)\n",
    "    test_acc = metrics.accuracy_score(y_test, y_test_pred)\n",
    "\n",
    "    print(\"KNN Test Accuracy: \", test_acc*100, \"%\")\n",
    "    return test_acc"
   ]
  },
  {
   "cell_type": "code",
   "execution_count": 57,
   "metadata": {},
   "outputs": [],
   "source": [
    "def get_random_idx(sample_size, data_size):\n",
    "    rand_idx = np.array(sample_size, dtype=int)\n",
    "    rand_idx = np.int_(np.round(np.random.rand(sample_size) * (data_size-1)))\n",
    "    return rand_idx\n",
    "\n",
    "def plot_accuracies(sample_size, random_accuracy):\n",
    "    import matplotlib.pyplot as plt\n",
    "    \n",
    "    y = np.sum(random_accuracy, axis=1)/random_accuracy.shape[1]\n",
    "    yerr = np.std(random_accuracy, axis=1)\n",
    "\n",
    "    #print(sample_size.shape)\n",
    "    #print(y.shape)\n",
    "    #print(yerr.shape)\n",
    "    \n",
    "    plt.figure()\n",
    "    plt.errorbar(sample_size, y, yerr)"
   ]
  },
  {
   "cell_type": "code",
   "execution_count": 53,
   "metadata": {},
   "outputs": [
    {
     "name": "stdout",
     "output_type": "stream",
     "text": [
      "KNN Test Accuracy:  88.03 %\n",
      "KNN Test Accuracy:  89.0 %\n",
      "KNN Test Accuracy:  89.19 %\n",
      "KNN Test Accuracy:  88.4 %\n",
      "KNN Test Accuracy:  87.76 %\n",
      "KNN Test Accuracy:  93.62 %\n",
      "KNN Test Accuracy:  93.41000000000001 %\n",
      "KNN Test Accuracy:  93.62 %\n",
      "KNN Test Accuracy:  93.42 %\n",
      "KNN Test Accuracy:  93.17999999999999 %\n",
      "KNN Test Accuracy:  94.78 %\n",
      "KNN Test Accuracy:  94.85 %\n",
      "KNN Test Accuracy:  94.92 %\n",
      "KNN Test Accuracy:  95.16 %\n",
      "KNN Test Accuracy:  94.5 %\n"
     ]
    }
   ],
   "source": [
    "M = [1000, 5000, 10000]\n",
    "n_iterations = 5\n",
    "random_prototyping_accuracy = np.zeros((len(M), n_iterations))\n",
    "\n",
    "for i, m in enumerate(M):\n",
    "    for iter in range(n_iterations):\n",
    "        rand_idx = get_random_idx(m, x_train.shape[0])\n",
    "        rand_data = np.take(x_train, rand_idx, axis=0)\n",
    "        rand_labels = np.take(y_train, rand_idx, axis=0)\n",
    "    \n",
    "        random_prototyping_accuracy[i][iter] = run_knn(rand_data, rand_labels, x_test, y_test, 1)\n",
    "\n"
   ]
  },
  {
   "cell_type": "code",
   "execution_count": 58,
   "metadata": {},
   "outputs": [
    {
     "name": "stdout",
     "output_type": "stream",
     "text": [
      "(3,)\n",
      "(3,)\n",
      "(3,)\n"
     ]
    },
    {
     "data": {
      "image/png": "[encoded data removed]",
      "text/plain": [
       "<Figure size 640x480 with 1 Axes>"
      ]
     },
     "metadata": {},
     "output_type": "display_data"
    }
   ],
   "source": [
    "plot_accuracies(np.array(M), random_prototyping_accuracy)"
   ]
  }
 ],
 "metadata": {
  "kernelspec": {
   "display_name": "Python 3",
   "language": "python",
   "name": "python3"
  },
  "language_info": {
   "codemirror_mode": {
    "name": "ipython",
    "version": 3
   },
   "file_extension": ".py",
   "mimetype": "text/x-python",
   "name": "python",
   "nbconvert_exporter": "python",
   "pygments_lexer": "ipython3",
   "version": "3.9.6"
  }
 },
 "nbformat": 4,
 "nbformat_minor": 2
}
